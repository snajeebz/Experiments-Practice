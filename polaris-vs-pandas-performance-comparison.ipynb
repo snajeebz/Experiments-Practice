{
 "cells": [
  {
   "cell_type": "markdown",
   "id": "cb9eb22f",
   "metadata": {
    "papermill": {
     "duration": 0.00843,
     "end_time": "2023-12-09T03:58:34.984374",
     "exception": false,
     "start_time": "2023-12-09T03:58:34.975944",
     "status": "completed"
    },
    "tags": []
   },
   "source": [
    "# [Polaris vs Pandas](https://www.kaggle.com/najeebz/polaris-vs-pandas-performance-comparison)\n",
    "## Dataset: [Child Mind Institute - Detect Sleep States](https://www.kaggle.com/competitions/child-mind-institute-detect-sleep-states/overview)\n",
    "_______________________________________________________________________ \n",
    "# Author Details:\n",
    "- Name: Najeeb Haider Zaidi\n",
    "- Email: zaidi.nh@gmail.com\n",
    "- Profiles: [Github](https://github.com/snajeebz)  [LinkedIn](https://www.linkedin.com/in/najeebz) [Kaggle](https://www.kaggle.com/najeebz)\n",
    "- Copyrights 2023-2024 (c) are reserved only by the author: Najeeb Haider Zaidi\n",
    "- Opensource; anyone can copy use and reuse the code and results.\n",
    "________________________________________________________________________\n",
    "# Attributions:\n",
    "The Dataset has been provided by Child Mind Institute. in [Kaggle Competition](https://www.kaggle.com/competitions/child-mind-institute-detect-sleep-states/overview).\n",
    "________________________________________________________________________\n",
    "\n",
    "# Objective:\n",
    "\n",
    "> We need to compare Pandas and Polaris, we will run different operations through Pandas and Polaris and generate a comparison report of the both at the end."
   ]
  },
  {
   "cell_type": "markdown",
   "id": "4e77d074",
   "metadata": {
    "papermill": {
     "duration": 0.006182,
     "end_time": "2023-12-09T03:58:34.997539",
     "exception": false,
     "start_time": "2023-12-09T03:58:34.991357",
     "status": "completed"
    },
    "tags": []
   },
   "source": [
    "# Installing and Importing and Initializing Libraries."
   ]
  },
  {
   "cell_type": "code",
   "execution_count": 1,
   "id": "44562dcc",
   "metadata": {
    "_cell_guid": "b1076dfc-b9ad-4769-8c92-a6c4dae69d19",
    "_uuid": "8f2839f25d086af736a60e9eeb907d3b93b6e0e5",
    "execution": {
     "iopub.execute_input": "2023-12-09T03:58:35.013715Z",
     "iopub.status.busy": "2023-12-09T03:58:35.012703Z",
     "iopub.status.idle": "2023-12-09T03:58:35.736862Z",
     "shell.execute_reply": "2023-12-09T03:58:35.735613Z"
    },
    "papermill": {
     "duration": 0.735504,
     "end_time": "2023-12-09T03:58:35.739621",
     "exception": false,
     "start_time": "2023-12-09T03:58:35.004117",
     "status": "completed"
    },
    "tags": []
   },
   "outputs": [
    {
     "name": "stdout",
     "output_type": "stream",
     "text": [
      "/kaggle/input/child-mind-institute-detect-sleep-states/train_series.parquet\n",
      "/kaggle/input/child-mind-institute-detect-sleep-states/sample_submission.csv\n",
      "/kaggle/input/child-mind-institute-detect-sleep-states/train_events.csv\n",
      "/kaggle/input/child-mind-institute-detect-sleep-states/test_series.parquet\n"
     ]
    }
   ],
   "source": [
    "import numpy as np # linear algebra\n",
    "import pandas as pd# data processing, CSV file I/O (e.g. pd.read_csv)\n",
    "import polars as pl\n",
    "from datetime import datetime as dt\n",
    "from tqdm import tqdm\n",
    "import tracemalloc\n",
    "tqdm.pandas()\n",
    "pd.set_option('display.max_row', 500)\n",
    "# Input data files are available in the read-only \"../input/\" directory\n",
    "# For example, running this (by clicking run or pressing Shift+Enter) will list all files under the input directory\n",
    "import warnings\n",
    "warnings.filterwarnings(\"ignore\")\n",
    "pd.set_option('display.max_colwidth', None)\n",
    "import os\n",
    "for dirname, _, filenames in os.walk('/kaggle/input'):\n",
    "    for filename in filenames:\n",
    "        print(os.path.join(dirname, filename))"
   ]
  },
  {
   "cell_type": "markdown",
   "id": "9306a189",
   "metadata": {
    "papermill": {
     "duration": 0.006576,
     "end_time": "2023-12-09T03:58:35.753032",
     "exception": false,
     "start_time": "2023-12-09T03:58:35.746456",
     "status": "completed"
    },
    "tags": []
   },
   "source": [
    "# Windowing the training data\n",
    "### As the target is to detect an event, \n",
    "### So, extracting timesteps before and after the events. "
   ]
  },
  {
   "cell_type": "code",
   "execution_count": 2,
   "id": "041b9c0b",
   "metadata": {
    "execution": {
     "iopub.execute_input": "2023-12-09T03:58:35.769193Z",
     "iopub.status.busy": "2023-12-09T03:58:35.768253Z",
     "iopub.status.idle": "2023-12-09T03:58:35.780293Z",
     "shell.execute_reply": "2023-12-09T03:58:35.779143Z"
    },
    "papermill": {
     "duration": 0.02396,
     "end_time": "2023-12-09T03:58:35.783976",
     "exception": false,
     "start_time": "2023-12-09T03:58:35.760016",
     "status": "completed"
    },
    "tags": []
   },
   "outputs": [],
   "source": [
    "def window(df, win_size):\n",
    "    tracemalloc.start()\n",
    "\n",
    "    ind=df.index[df['event'].isna()==False]\n",
    "    c=0\n",
    "    df['window']=np.nan\n",
    "    for i in tqdm(ind):\n",
    "        a=i-win_size\n",
    "        b=i+win_size\n",
    "        df['window'].loc[a:i]=int(c)\n",
    "        c=c+1\n",
    "        df['window'].loc[i:b]=int(c)\n",
    "        c=c+1\n",
    "    df['window'].dropna(inplace=True)\n",
    "    print( 'Memory Used: ',tracemalloc.get_traced_memory()[1]/1024/1024/1024)\n",
    "    tracemalloc.stop()\n",
    "    return df[df['window'].isna()==False]\n",
    "\n",
    "\n",
    "def window_polars(df, win_size):\n",
    "    ind=df.index[df['event'].isna()==False]\n",
    "    c=0\n",
    "    df['window']=np.nan\n",
    "    for i in tqdm(ind):\n",
    "        a=i-win_size\n",
    "        b=i+win_size\n",
    "        df['window'].loc[a:i]=int(c)\n",
    "        c=c+1\n",
    "        df['window'].loc[i:b]=int(c)\n",
    "        c=c+1\n",
    "    df['window'].dropna(inplace=True)\n",
    "\n",
    "    return df[df['window'].isna()==False]"
   ]
  },
  {
   "cell_type": "markdown",
   "id": "9e8d191f",
   "metadata": {
    "papermill": {
     "duration": 0.006156,
     "end_time": "2023-12-09T03:58:35.797379",
     "exception": false,
     "start_time": "2023-12-09T03:58:35.791223",
     "status": "completed"
    },
    "tags": []
   },
   "source": [
    "# Removing the steps where change in anglez is insignificant and enmo is zero (device is supposed not to be worn)"
   ]
  },
  {
   "cell_type": "code",
   "execution_count": 3,
   "id": "5e5e8990",
   "metadata": {
    "execution": {
     "iopub.execute_input": "2023-12-09T03:58:35.813230Z",
     "iopub.status.busy": "2023-12-09T03:58:35.812458Z",
     "iopub.status.idle": "2023-12-09T03:58:35.822514Z",
     "shell.execute_reply": "2023-12-09T03:58:35.821587Z"
    },
    "papermill": {
     "duration": 0.021062,
     "end_time": "2023-12-09T03:58:35.824831",
     "exception": false,
     "start_time": "2023-12-09T03:58:35.803769",
     "status": "completed"
    },
    "tags": []
   },
   "outputs": [],
   "source": [
    "def inactive_periods(df):\n",
    "    print(\"shape before application: \",df.shape)\n",
    "    df['diff_anglez']=df['anglez'].diff()\n",
    "    df=df[(df['enmo']!=0.0) | (df['diff_anglez']!=0.0)]\n",
    "    print(\"shape after application: \",df.shape)\n",
    "    df.drop('diff_anglez', inplace=True, axis=1)\n",
    "    print(\"shape after completion: \",df.shape)\n",
    "    print(\"removed \")\n",
    "    return df\n"
   ]
  },
  {
   "cell_type": "markdown",
   "id": "e86a8578",
   "metadata": {
    "papermill": {
     "duration": 0.006233,
     "end_time": "2023-12-09T03:58:35.837639",
     "exception": false,
     "start_time": "2023-12-09T03:58:35.831406",
     "status": "completed"
    },
    "tags": []
   },
   "source": [
    "# Clustering the Enmo and Anglez"
   ]
  },
  {
   "cell_type": "code",
   "execution_count": 4,
   "id": "b03aceaf",
   "metadata": {
    "execution": {
     "iopub.execute_input": "2023-12-09T03:58:35.853241Z",
     "iopub.status.busy": "2023-12-09T03:58:35.852457Z",
     "iopub.status.idle": "2023-12-09T03:58:35.860100Z",
     "shell.execute_reply": "2023-12-09T03:58:35.858948Z"
    },
    "papermill": {
     "duration": 0.018497,
     "end_time": "2023-12-09T03:58:35.862859",
     "exception": false,
     "start_time": "2023-12-09T03:58:35.844362",
     "status": "completed"
    },
    "tags": []
   },
   "outputs": [],
   "source": [
    "def clustering(df):\n",
    "    tracemalloc.start()\n",
    "\n",
    "    from sklearn.cluster import KMeans\n",
    "    from sklearn.preprocessing import StandardScaler    \n",
    "    X=df[['anglez','enmo']]\n",
    "#Scalling the data\n",
    "    scaler=StandardScaler()\n",
    "    X_scaled=scaler.fit_transform(X)\n",
    "#perform clustering\n",
    "    model=KMeans(n_clusters=4,algorithm=\"elkan\" )\n",
    "    model.fit(X_scaled)\n",
    "    print( 'Memory Used GB: ',tracemalloc.get_traced_memory()[1]/1024/1024/1024)\n",
    "    tracemalloc.stop()\n",
    "    return model.labels_\n"
   ]
  },
  {
   "cell_type": "markdown",
   "id": "80ae637c",
   "metadata": {
    "papermill": {
     "duration": 0.006262,
     "end_time": "2023-12-09T03:58:35.875740",
     "exception": false,
     "start_time": "2023-12-09T03:58:35.869478",
     "status": "completed"
    },
    "tags": []
   },
   "source": [
    "# Adding Rolling Standard Deviations\n",
    "\n",
    "- As per observation enmo and anglez varies frequently and more than normal for few timesteps before and after the event.\n",
    "- In order to consider the variations into the modelling, using the method."
   ]
  },
  {
   "cell_type": "code",
   "execution_count": 5,
   "id": "c3029da3",
   "metadata": {
    "execution": {
     "iopub.execute_input": "2023-12-09T03:58:35.891097Z",
     "iopub.status.busy": "2023-12-09T03:58:35.890293Z",
     "iopub.status.idle": "2023-12-09T03:58:35.908027Z",
     "shell.execute_reply": "2023-12-09T03:58:35.906976Z"
    },
    "papermill": {
     "duration": 0.028585,
     "end_time": "2023-12-09T03:58:35.910746",
     "exception": false,
     "start_time": "2023-12-09T03:58:35.882161",
     "status": "completed"
    },
    "tags": []
   },
   "outputs": [],
   "source": [
    " def rollingstd(series_df):\n",
    "    tracemalloc.start()\n",
    "  # Creating columns with nans\n",
    "    series_df['sd_enmo_1']=np.nan    # 1 min rolling std: enmo\n",
    "    series_df['sd_anglez_1']=np.nan  # 1 min rolling std: anglez\n",
    "    series_df['m_enmo_2']=np.nan     # 2 min rolling mean: enmo\n",
    "    series_df['m_anglez_2']=np.nan   # 2 min rolling std: anglez \n",
    "    print('anglez rolling std 12')\n",
    "    series_df['sd_anglez_1'] = (series_df.groupby('series_id')['anglez']\n",
    "                      .rolling(12)\n",
    "                      .std()\n",
    "                      .reset_index(level=0, drop=True))\n",
    "    print('anglez rolling std 2')\n",
    "    series_df['sd_anglez_1'][series_df['sd_anglez_1'].isna()==True] = (series_df.groupby('series_id')['anglez']\n",
    "                      .rolling(2)\n",
    "                      .std()\n",
    "                      .reset_index(level=0, drop=True))\n",
    "    print('enmo rolling std 12')\n",
    "    series_df['sd_enmo_1'] = (series_df.groupby('series_id')['enmo']\n",
    "                      .rolling(12)\n",
    "                      .std()\n",
    "                      .reset_index(level=0, drop=True))\n",
    "    print('enmo rolling mean 24')\n",
    "    series_df['m_enmo_2'] = (series_df.groupby('series_id')['enmo']\n",
    "                      .rolling(24)\n",
    "                      .mean()\n",
    "                      .reset_index(level=0, drop=True))\n",
    "    print('anglez rolling mean 24')\n",
    "    series_df['m_anglez_2'] = (series_df.groupby('series_id')['anglez']\n",
    "                      .rolling(24)\n",
    "                      .mean()\n",
    "                      .reset_index(level=0, drop=True))\n",
    "    print('enmo rolling std 2')\n",
    "    print('Nans in sd_emno_1: ',series_df['sd_enmo_1'].isnull().sum())\n",
    "    series_df['sd_enmo_1'][series_df['sd_enmo_1'].isna()==True] = (series_df.groupby('series_id')['enmo']\n",
    "                      .rolling(2)\n",
    "                      .std()\n",
    "                      .reset_index(level=0, drop=True))\n",
    "    print('enmo rolling mean 2')\n",
    "    series_df['m_enmo_2'][series_df['m_enmo_2'].isna()==True] = (series_df.groupby('series_id')['enmo']\n",
    "                      .rolling(2)\n",
    "                      .mean()\n",
    "                      .reset_index(level=0, drop=True))\n",
    "    print('anglez rolling mean 2')\n",
    "    series_df['m_anglez_2'][series_df['m_anglez_2'].isna()==True] = (series_df.groupby('series_id')['anglez']\n",
    "                      .rolling(2)\n",
    "                      .mean()\n",
    "                      .reset_index(level=0, drop=True))\n",
    "#Series wise rolling std and mean\n",
    "# filling rest of nans\n",
    "    print('Nans in sd_emno_1: ',series_df['sd_enmo_1'].isnull().sum())\n",
    "    series_df['sd_enmo_1'].fillna(0.0, inplace=True)\n",
    "    series_df['sd_anglez_1'].fillna(0.0, inplace=True)\n",
    "    series_df['m_enmo_2'].fillna(0.0, inplace=True)\n",
    "    series_df['m_anglez_2'].fillna(0.0, inplace=True)\n",
    "    print('Nans after removal: ',series_df['sd_enmo_1'].isnull().sum())\n",
    "    print( 'Memory Used GB: ',tracemalloc.get_traced_memory()[1]/1024/1024/1024)\n",
    "    tracemalloc.stop()\n",
    "    return(series_df)\n"
   ]
  },
  {
   "cell_type": "markdown",
   "id": "fcd8eefd",
   "metadata": {
    "papermill": {
     "duration": 0.00625,
     "end_time": "2023-12-09T03:58:35.923861",
     "exception": false,
     "start_time": "2023-12-09T03:58:35.917611",
     "status": "completed"
    },
    "tags": []
   },
   "source": [
    "# Scaling the data"
   ]
  },
  {
   "cell_type": "code",
   "execution_count": 6,
   "id": "ab42f7df",
   "metadata": {
    "execution": {
     "iopub.execute_input": "2023-12-09T03:58:35.940437Z",
     "iopub.status.busy": "2023-12-09T03:58:35.939087Z",
     "iopub.status.idle": "2023-12-09T03:58:35.948278Z",
     "shell.execute_reply": "2023-12-09T03:58:35.946724Z"
    },
    "papermill": {
     "duration": 0.020525,
     "end_time": "2023-12-09T03:58:35.950988",
     "exception": false,
     "start_time": "2023-12-09T03:58:35.930463",
     "status": "completed"
    },
    "tags": []
   },
   "outputs": [],
   "source": [
    "def scale(X):\n",
    "    tracemalloc.start()\n",
    "    from sklearn import preprocessing\n",
    "    scaler=preprocessing.StandardScaler().fit(X)\n",
    "    print( 'Memory Used GB: ',tracemalloc.get_traced_memory()[1]/1024/1024/1024)\n",
    "    tracemalloc.stop()\n",
    "    return (scaler.transform(X))\n"
   ]
  },
  {
   "cell_type": "code",
   "execution_count": 7,
   "id": "0f2f5d47",
   "metadata": {
    "execution": {
     "iopub.execute_input": "2023-12-09T03:58:35.966290Z",
     "iopub.status.busy": "2023-12-09T03:58:35.965815Z",
     "iopub.status.idle": "2023-12-09T03:58:35.971718Z",
     "shell.execute_reply": "2023-12-09T03:58:35.970489Z"
    },
    "papermill": {
     "duration": 0.016538,
     "end_time": "2023-12-09T03:58:35.974150",
     "exception": false,
     "start_time": "2023-12-09T03:58:35.957612",
     "status": "completed"
    },
    "tags": []
   },
   "outputs": [],
   "source": [
    "a=dt.now()"
   ]
  },
  {
   "cell_type": "code",
   "execution_count": 8,
   "id": "5284a795",
   "metadata": {
    "execution": {
     "iopub.execute_input": "2023-12-09T03:58:35.990789Z",
     "iopub.status.busy": "2023-12-09T03:58:35.989767Z",
     "iopub.status.idle": "2023-12-09T03:58:35.996117Z",
     "shell.execute_reply": "2023-12-09T03:58:35.994398Z"
    },
    "papermill": {
     "duration": 0.01851,
     "end_time": "2023-12-09T03:58:35.999185",
     "exception": false,
     "start_time": "2023-12-09T03:58:35.980675",
     "status": "completed"
    },
    "tags": []
   },
   "outputs": [],
   "source": [
    "b=dt.now()"
   ]
  },
  {
   "cell_type": "code",
   "execution_count": 9,
   "id": "fc17aaca",
   "metadata": {
    "execution": {
     "iopub.execute_input": "2023-12-09T03:58:36.017549Z",
     "iopub.status.busy": "2023-12-09T03:58:36.016618Z",
     "iopub.status.idle": "2023-12-09T03:58:36.027528Z",
     "shell.execute_reply": "2023-12-09T03:58:36.026065Z"
    },
    "papermill": {
     "duration": 0.025877,
     "end_time": "2023-12-09T03:58:36.032677",
     "exception": false,
     "start_time": "2023-12-09T03:58:36.006800",
     "status": "completed"
    },
    "tags": []
   },
   "outputs": [
    {
     "data": {
      "text/plain": [
       "0"
      ]
     },
     "execution_count": 9,
     "metadata": {},
     "output_type": "execute_result"
    }
   ],
   "source": [
    "d =(b-a)\n",
    "d.seconds"
   ]
  },
  {
   "cell_type": "markdown",
   "id": "aae0dd5c",
   "metadata": {
    "papermill": {
     "duration": 0.00748,
     "end_time": "2023-12-09T03:58:36.050185",
     "exception": false,
     "start_time": "2023-12-09T03:58:36.042705",
     "status": "completed"
    },
    "tags": []
   },
   "source": [
    "# Testing Pandas"
   ]
  },
  {
   "cell_type": "code",
   "execution_count": 10,
   "id": "a4fafc0c",
   "metadata": {
    "execution": {
     "iopub.execute_input": "2023-12-09T03:58:36.067440Z",
     "iopub.status.busy": "2023-12-09T03:58:36.067010Z",
     "iopub.status.idle": "2023-12-09T04:05:42.153800Z",
     "shell.execute_reply": "2023-12-09T04:05:42.152387Z"
    },
    "papermill": {
     "duration": 426.099799,
     "end_time": "2023-12-09T04:05:42.157414",
     "exception": false,
     "start_time": "2023-12-09T03:58:36.057615",
     "status": "completed"
    },
    "tags": []
   },
   "outputs": [
    {
     "name": "stdout",
     "output_type": "stream",
     "text": [
      "Importing Training Datasets\n",
      "Datasets Imported...\n",
      "Time Taken:  0:01:20.339577\n",
      "Memory Used GB:  2.737864149734378\n",
      "______________________________________\n",
      "Merging the training datasets...\n",
      "Datasets Merged...\n",
      "Time Taken:  0:02:02.382792\n",
      "Memory Used:  10.486966992728412\n",
      "______________________________________\n",
      "Removing the periods of Inactivity...\n",
      "shape before application:  (127946340, 7)\n",
      "shape after application:  (111766109, 8)\n",
      "shape after completion:  (111766109, 7)\n",
      "removed \n",
      "______________________________________\n",
      "Creating Windows each size:  720\n"
     ]
    },
    {
     "name": "stderr",
     "output_type": "stream",
     "text": [
      "100%|██████████| 6928/6928 [00:16<00:00, 419.08it/s]\n"
     ]
    },
    {
     "name": "stdout",
     "output_type": "stream",
     "text": [
      "Memory Used:  1.0660634599626064\n",
      "Windows formed...\n",
      "Time Taken:  0:00:24.853864\n",
      "______________________________________\n",
      "Adding columns to account for deviation in enmo and anglez 1 min rolling...\n",
      "anglez rolling std 12\n",
      "anglez rolling std 2\n",
      "enmo rolling std 12\n",
      "enmo rolling mean 24\n",
      "anglez rolling mean 24\n",
      "enmo rolling std 2\n",
      "Nans in sd_emno_1:  2959\n",
      "enmo rolling mean 2\n",
      "anglez rolling mean 2\n",
      "Nans in sd_emno_1:  269\n",
      "Nans after removal:  0\n",
      "Memory Used GB:  1.2683571875095367\n",
      "Std columns added...\n",
      "Time Taken:  0:00:55.882808\n",
      "______________________________________\n",
      "Clustering the data based on enmo and anglez...\n",
      "Memory Used GB:  0.5817824341356754\n",
      "Time Taken:  0:01:55.239054\n",
      "Added clusters...\n",
      "Memory Used GB:  0.9498797813430429\n"
     ]
    }
   ],
   "source": [
    "# Importing the datasets\n",
    "print('Importing Training Datasets')\n",
    "tnow=dt.now()\n",
    "tracemalloc.start()\n",
    "df_series=pd.read_parquet(path=\"/kaggle/input/child-mind-institute-detect-sleep-states/train_series.parquet\", engine='auto')\n",
    "df_events=pd.read_csv(\"/kaggle/input/child-mind-institute-detect-sleep-states/train_events.csv\")\n",
    "print('Datasets Imported...')\n",
    "print('Time Taken: ',dt.now()-tnow)\n",
    "print( 'Memory Used GB: ',tracemalloc.get_traced_memory()[1]/1024/1024/1024)\n",
    "tracemalloc.stop()\n",
    "print('______________________________________')\n",
    "\n",
    "# Merging the datasets\n",
    "print('Merging the training datasets...')\n",
    "tnow=dt.now()\n",
    "tracemalloc.start()\n",
    "events=df_events[['series_id', 'step','event']]\n",
    "series_df=pd.merge(df_series,events,on=[\"step\",\"series_id\"],how='left')\n",
    "df_series=[]\n",
    "df_event=[]\n",
    "series_df['sleep']=np.nan\n",
    "series_df.loc[series_df[\"event\"]==\"onset\", \"sleep\"] = 1\n",
    "series_df.loc[series_df[\"event\"]==\"wakeup\", \"sleep\"] = 0\n",
    "series_df['sleep'].fillna(method='ffill', inplace=True)\n",
    "series_df['sleep'].fillna(value=0, inplace=True)\n",
    "print('Datasets Merged...')\n",
    "print('Time Taken: ',dt.now()-tnow)\n",
    "print( 'Memory Used: ',tracemalloc.get_traced_memory()[1]/1024/1024/1024)\n",
    "tracemalloc.stop()\n",
    "print('______________________________________')\n",
    "\n",
    "# Removing the periods of inactivity\n",
    "print('Removing the periods of Inactivity...')\n",
    "series_df=inactive_periods(series_df)\n",
    "print('______________________________________')\n",
    "\n",
    "# Forming Windows\n",
    "win_size=720  #60mins\n",
    "tnow=dt.now()\n",
    "print('Creating Windows each size: ',win_size)\n",
    "series_df=window(series_df,win_size)\n",
    "print('Windows formed...')\n",
    "print('Time Taken: ',dt.now()-tnow)\n",
    "print('______________________________________')\n",
    "\n",
    "# Adding the columns of Standard Deviation (1 min)\n",
    "tnow=dt.now()\n",
    "print('Adding columns to account for deviation in enmo and anglez 1 min rolling...')\n",
    "series_df=rollingstd(series_df)\n",
    "series_df['sd_anglez_1']=pd.to_numeric(series_df['sd_anglez_1'])\n",
    "series_df['sd_enmo_1']=pd.to_numeric(series_df['sd_enmo_1'])\n",
    "series_df['m_anglez_2']=pd.to_numeric(series_df['m_anglez_2'])\n",
    "series_df['m_enmo_2']=pd.to_numeric(series_df['m_enmo_2'])\n",
    "print('Std columns added...')\n",
    "print('Time Taken: ',dt.now()-tnow)\n",
    "print('______________________________________')\n",
    "\n",
    "# Clustering the Data\n",
    "tnow=dt.now()\n",
    "print('Clustering the data based on enmo and anglez...')\n",
    "series_df['cluster']=(clustering(series_df)+1)/4\n",
    "print('Time Taken: ',dt.now()-tnow)\n",
    "print('Added clusters...')\n",
    "\n",
    "# Creating dataframes for training\n",
    "X=series_df[['sd_anglez_1','sd_enmo_1','anglez','m_anglez_2','m_enmo_2','enmo','cluster']]\n",
    "y=series_df[['sleep']]\n",
    "X=scale(X)"
   ]
  },
  {
   "cell_type": "code",
   "execution_count": null,
   "id": "7061b5a7",
   "metadata": {
    "papermill": {
     "duration": 0.023708,
     "end_time": "2023-12-09T04:05:42.205801",
     "exception": false,
     "start_time": "2023-12-09T04:05:42.182093",
     "status": "completed"
    },
    "tags": []
   },
   "outputs": [],
   "source": []
  }
 ],
 "metadata": {
  "kaggle": {
   "accelerator": "none",
   "dataSources": [
    {
     "databundleVersionId": 6589269,
     "sourceId": 53666,
     "sourceType": "competition"
    }
   ],
   "dockerImageVersionId": 30615,
   "isGpuEnabled": false,
   "isInternetEnabled": false,
   "language": "python",
   "sourceType": "notebook"
  },
  "kernelspec": {
   "display_name": "Python 3",
   "language": "python",
   "name": "python3"
  },
  "language_info": {
   "codemirror_mode": {
    "name": "ipython",
    "version": 3
   },
   "file_extension": ".py",
   "mimetype": "text/x-python",
   "name": "python",
   "nbconvert_exporter": "python",
   "pygments_lexer": "ipython3",
   "version": "3.10.12"
  },
  "papermill": {
   "default_parameters": {},
   "duration": 432.021406,
   "end_time": "2023-12-09T04:05:43.361066",
   "environment_variables": {},
   "exception": null,
   "input_path": "__notebook__.ipynb",
   "output_path": "__notebook__.ipynb",
   "parameters": {},
   "start_time": "2023-12-09T03:58:31.339660",
   "version": "2.4.0"
  }
 },
 "nbformat": 4,
 "nbformat_minor": 5
}
